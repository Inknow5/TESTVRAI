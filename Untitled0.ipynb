{
  "nbformat": 4,
  "nbformat_minor": 0,
  "metadata": {
    "colab": {
      "provenance": [],
      "toc_visible": true,
      "authorship_tag": "ABX9TyM3d3hVpsnW0pkfg2h8bj5+",
      "include_colab_link": true
    },
    "kernelspec": {
      "name": "python3",
      "display_name": "Python 3"
    },
    "language_info": {
      "name": "python"
    }
  },
  "cells": [
    {
      "cell_type": "markdown",
      "metadata": {
        "id": "view-in-github",
        "colab_type": "text"
      },
      "source": [
        "<a href=\"https://colab.research.google.com/github/Inknow5/TESTVRAI/blob/main/Untitled0.ipynb\" target=\"_parent\"><img src=\"https://colab.research.google.com/assets/colab-badge.svg\" alt=\"Open In Colab\"/></a>"
      ]
    },
    {
      "cell_type": "markdown",
      "source": [
        "# yoan"
      ],
      "metadata": {
        "id": "wshxwxVSwHZy"
      }
    },
    {
      "cell_type": "code",
      "source": [
        "i =1\n",
        "\n",
        "while i < 10 :\n",
        "  print(\"hello\")\n",
        "  i +=1\n",
        "  print(i)\n",
        "\n",
        "while i <= 20  :\n",
        "  print(\"ca roule\")\n",
        "  i += i\n",
        "  print(i)\n",
        "\n",
        "while i < 30:\n",
        "  i += i\n",
        "  print(\"c fini\")\n",
        "  print(i)\n",
        "\n",
        "if i == 30:\n",
        "  print(\"termine coco\")\n",
        "  i += i\n",
        "  print(i)"
      ],
      "metadata": {
        "colab": {
          "base_uri": "https://localhost:8080/"
        },
        "id": "P8VXNMk00eP0",
        "outputId": "8184fbfa-c995-4a50-8a49-8e74e02803c4"
      },
      "execution_count": 24,
      "outputs": [
        {
          "output_type": "stream",
          "name": "stdout",
          "text": [
            "hello\n",
            "2\n",
            "hello\n",
            "3\n",
            "hello\n",
            "4\n",
            "hello\n",
            "5\n",
            "hello\n",
            "6\n",
            "hello\n",
            "7\n",
            "hello\n",
            "8\n",
            "hello\n",
            "9\n",
            "hello\n",
            "10\n",
            "ca roule\n",
            "20\n",
            "ca roule\n",
            "40\n"
          ]
        }
      ]
    },
    {
      "cell_type": "code",
      "source": [],
      "metadata": {
        "id": "frHd1lCU1K8f"
      },
      "execution_count": null,
      "outputs": []
    }
  ]
}