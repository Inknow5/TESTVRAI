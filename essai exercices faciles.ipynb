{
 "cells": [
  {
   "cell_type": "code",
   "execution_count": 26,
   "id": "6a502a3e",
   "metadata": {},
   "outputs": [
    {
     "name": "stdout",
     "output_type": "stream",
     "text": [
      "A 100 km/h, je me fais déchiqueter à 10 h 42 min.\n",
      "A 110 km/h, je me fais déchiqueter à 10 h 32 min.\n",
      "A 120 km/h, je me fais déchiqueter à 10 h 25 min.\n",
      "A 130 km/h, je me fais déchiqueter à 10 h 18 min.\n",
      "A 140 km/h, je me fais déchiqueter à 10 h 12 min.\n",
      "A 150 km/h, je me fais déchiqueter à 10 h 8 min.\n",
      "A 160 km/h, je me fais déchiqueter à 10 h 3 min.\n",
      "A 170 km/h, je me fais déchiqueter à 10 h 0 min.\n",
      "A 180 km/h, je me fais déchiqueter à 9 h 56 min.\n",
      "A 190 km/h, je me fais déchiqueter à 9 h 53 min.\n",
      "A 200 km/h, je me fais déchiqueter à 9 h 51 min.\n",
      "A 210 km/h, je me fais déchiqueter à 9 h 48 min.\n",
      "A 220 km/h, je me fais déchiqueter à 9 h 46 min.\n",
      "A 230 km/h, je me fais déchiqueter à 9 h 44 min.\n",
      "A 240 km/h, je me fais déchiqueter à 9 h 42 min.\n",
      "A 250 km/h, je me fais déchiqueter à 9 h 40 min.\n",
      "A 260 km/h, je me fais déchiqueter à 9 h 39 min.\n",
      "A 270 km/h, je me fais déchiqueter à 9 h 37 min.\n",
      "A 280 km/h, je me fais déchiqueter à 9 h 36 min.\n",
      "A 290 km/h, je me fais déchiqueter à 9 h 35 min.\n",
      "A 300 km/h, je me fais déchiqueter à 9 h 34 min.\n"
     ]
    }
   ],
   "source": [
    "def tchacatchac(v) :\n",
    "    \"\"\"Affiche l'heure du drame.\"\"\"\n",
    "    heure = 9 + int(170/v)\n",
    "    minute = (60 * 170 / v) % 60\n",
    "    print('A %d km/h, je me fais déchiqueter à %d h %d min.'%(v, heure, minute))\n",
    "\n",
    "# Programme principal =========================================================\n",
    "i = 100\n",
    "while i <= 300:\n",
    "    tchacatchac(i)\n",
    "    i += 10"
   ]
  },
  {
   "cell_type": "code",
   "execution_count": 29,
   "id": "fe57f225",
   "metadata": {},
   "outputs": [
    {
     "name": "stdout",
     "output_type": "stream",
     "text": [
      "A  10 km/h, je me fais déchiqueter à  26 h 0 min.\n",
      "A  20 km/h, je me fais déchiqueter à  17 h 30 min.\n",
      "A  30 km/h, je me fais déchiqueter à  14 h 40 min.\n",
      "A  40 km/h, je me fais déchiqueter à  13 h 15 min.\n",
      "A  50 km/h, je me fais déchiqueter à  12 h 24 min.\n",
      "A  60 km/h, je me fais déchiqueter à  11 h 50 min.\n",
      "A  70 km/h, je me fais déchiqueter à  11 h 25 min.\n",
      "A  80 km/h, je me fais déchiqueter à  11 h 7 min.\n",
      "A  90 km/h, je me fais déchiqueter à  10 h 53 min.\n",
      "A  100 km/h, je me fais déchiqueter à  10 h 42 min.\n",
      "A  110 km/h, je me fais déchiqueter à  10 h 32 min.\n",
      "A  120 km/h, je me fais déchiqueter à  10 h 25 min.\n",
      "A  130 km/h, je me fais déchiqueter à  10 h 18 min.\n",
      "A  140 km/h, je me fais déchiqueter à  10 h 12 min.\n",
      "A  150 km/h, je me fais déchiqueter à  10 h 8 min.\n",
      "A  160 km/h, je me fais déchiqueter à  10 h 3 min.\n",
      "A  170 km/h, je me fais déchiqueter à  10 h 0 min.\n",
      "A  180 km/h, je me fais déchiqueter à  9 h 56 min.\n",
      "A  190 km/h, je me fais déchiqueter à  9 h 53 min.\n",
      "A  200 km/h, je me fais déchiqueter à  9 h 51 min.\n",
      "A  210 km/h, je me fais déchiqueter à  9 h 48 min.\n",
      "A  220 km/h, je me fais déchiqueter à  9 h 46 min.\n",
      "A  230 km/h, je me fais déchiqueter à  9 h 44 min.\n",
      "A  240 km/h, je me fais déchiqueter à  9 h 42 min.\n",
      "A  250 km/h, je me fais déchiqueter à  9 h 40 min.\n",
      "A  260 km/h, je me fais déchiqueter à  9 h 39 min.\n",
      "A  270 km/h, je me fais déchiqueter à  9 h 37 min.\n",
      "A  280 km/h, je me fais déchiqueter à  9 h 36 min.\n",
      "A  290 km/h, je me fais déchiqueter à  9 h 35 min.\n",
      "A  300 km/h, je me fais déchiqueter à  9 h 34 min.\n"
     ]
    }
   ],
   "source": [
    "def tcha(v) :\n",
    "    heure = 9 + int(170/v)\n",
    "    minute = (60 * 170 / v) % 60\n",
    "    print(\"A  %d km/h, je me fais déchiqueter à  %d h %d min.\" %(v, heure, minute))\n",
    "          \n",
    "a = 10\n",
    "while a <= 300:\n",
    "    tcha(a)\n",
    "    a += 10"
   ]
  },
  {
   "cell_type": "code",
   "execution_count": 49,
   "id": "f7ded515",
   "metadata": {},
   "outputs": [
    {
     "name": "stdout",
     "output_type": "stream",
     "text": [
      " chaîne :aaaaaaaaaaaaaaaaaaaaaaaatgc\n",
      " séquence :a\n",
      "Il y a 88.88888888888889  de a dans votre chaîne.\n"
     ]
    }
   ],
   "source": [
    "def valide(seq) :\n",
    "    ret = any(seq)\n",
    "    for c in seq :\n",
    "        ret = ret and c in \"atgc\"\n",
    "    return ret\n",
    "\n",
    "def proportion(a, s) :\n",
    "    \"\"\"Retourne la proportion de la séquence <s> dans la chaîne <a>.\"\"\"\n",
    "    return 100*a.count(s)/len(a)\n",
    "\n",
    "def saisie(ch) :\n",
    "    s = input(\" %s :\"%(ch))\n",
    "    while not valide(s) :\n",
    "        print(\" %s ne peut contenir que les chaînons 'a', 't', 'g' et 'c' et ne doit pas être vide\"%(ch))\n",
    "        s = input(\" %s :\" %(ch))\n",
    "    return s\n",
    "\n",
    "adn = saisie(\"chaîne\")\n",
    "seq = saisie(\"séquence\")\n",
    "\n",
    "print('Il y a {}  de {} dans votre chaîne.'.format(proportion(adn, seq), seq))"
   ]
  },
  {
   "cell_type": "code",
   "execution_count": 61,
   "id": "2a996563",
   "metadata": {},
   "outputs": [
    {
     "ename": "SyntaxError",
     "evalue": "invalid syntax (Temp/ipykernel_11552/4274385793.py, line 5)",
     "output_type": "error",
     "traceback": [
      "\u001b[1;36m  File \u001b[1;32m\"C:\\Users\\UTILIS~1\\AppData\\Local\\Temp/ipykernel_11552/4274385793.py\"\u001b[1;36m, line \u001b[1;32m5\u001b[0m\n\u001b[1;33m    def listAleaInt(n, 0, 101) :\u001b[0m\n\u001b[1;37m                       ^\u001b[0m\n\u001b[1;31mSyntaxError\u001b[0m\u001b[1;31m:\u001b[0m invalid syntax\n"
     ]
    }
   ],
   "source": [
    "import random as rd\n",
    "import randint as rdint\n",
    "\n",
    "\n",
    "def listAleaInt(n) :\n",
    "\n",
    "amplitude =[ min(listAleaInt[1:101]), max(listAleaInt[1:101]) for i in range(0, len(x), 101)]\n",
    "print(amplitude)"
   ]
  },
  {
   "cell_type": "code",
   "execution_count": 101,
   "id": "a234ce4b",
   "metadata": {},
   "outputs": [
    {
     "name": "stdout",
     "output_type": "stream",
     "text": [
      "Entrez un entier [2 .. 100] :1\n",
      "Entrez un entier [2 .. 100], s.v.p. :2\n",
      "Amplitude : 0.85\n",
      "Moyenne : 0.45\n"
     ]
    }
   ],
   "source": [
    "from random import seed, random\n",
    "\n",
    "def listAleaFloat(n) :\n",
    "    return [random() for i in range(n)]\n",
    "\n",
    "n = int(input(\"Entrez un entier [2 .. 100] :\"))\n",
    "while not(n >= 2 and n <= 100) :\n",
    "    n = int(input(\"Entrez un entier [2 .. 100], s.v.p. :\"))\n",
    "\n",
    "seed() # initialise le générateur de nombres aléatoires\n",
    "t = listAleaFloat(n) # construction de la liste\n",
    "\n",
    "print(\"Amplitude : {:.2f}\".format(max(t) - min(t)))\n",
    "print(\"Moyenne : {:.2f}\".format(sum(t)/n))"
   ]
  },
  {
   "cell_type": "markdown",
   "id": "74614a66",
   "metadata": {},
   "source": []
  },
  {
   "cell_type": "code",
   "execution_count": null,
   "id": "1d3e34de",
   "metadata": {},
   "outputs": [],
   "source": [
    "from random import random, seed\n",
    "def listAleaFloat(n) :\n",
    "    \"Retourne une liste de <n> flottants aléatoires\"\n",
    "    return [random() for i in range(n)]\n",
    "\n",
    "# Programme principal =========================================================\n",
    "n = int(input(\"Entrez un entier [2 .. 100] :\"))\n",
    "while not(n >= 2 and n <= 100) :\n",
    "    n = int(input(\"Entrez un entier [2 .. 100], s.v.p. :\"))\n",
    "\n",
    "seed() # initialise le générateur de nombres aléatoires\n",
    "t = listAleaFloat(n) # construction de la liste\n",
    "\n",
    "print(\"Amplitude : { :.2f}\".format(max(t) - min(t)))\n",
    "print(\"Moyenne : { :.2f}\".format(sum(t)/n))\n"
   ]
  },
  {
   "cell_type": "code",
   "execution_count": 85,
   "id": "929fadf3",
   "metadata": {},
   "outputs": [
    {
     "name": "stdout",
     "output_type": "stream",
     "text": [
      "Please enter the 2 List Item = 5\n",
      "Please enter the 3 List Item = 8\n",
      "Please enter the 4 List Item = 9\n",
      "Please enter the 5 List Item = 0\n",
      "Please enter the 6 List Item = 0\n",
      "Please enter the 7 List Item = 0\n",
      "Please enter the 8 List Item = 0\n",
      "Please enter the 9 List Item = 0\n",
      "Please enter the 10 List Item = 0\n",
      "Please enter the 11 List Item = 0\n",
      "Please enter the 12 List Item = \n"
     ]
    },
    {
     "ename": "ValueError",
     "evalue": "invalid literal for int() with base 10: ''",
     "output_type": "error",
     "traceback": [
      "\u001b[1;31m---------------------------------------------------------------------------\u001b[0m",
      "\u001b[1;31mValueError\u001b[0m                                Traceback (most recent call last)",
      "\u001b[1;32mC:\\Users\\UTILIS~1\\AppData\\Local\\Temp/ipykernel_11552/506142782.py\u001b[0m in \u001b[0;36m<module>\u001b[1;34m\u001b[0m\n\u001b[0;32m      5\u001b[0m \u001b[1;33m\u001b[0m\u001b[0m\n\u001b[0;32m      6\u001b[0m \u001b[1;32mfor\u001b[0m \u001b[0mi\u001b[0m \u001b[1;32min\u001b[0m \u001b[0mrange\u001b[0m\u001b[1;33m(\u001b[0m\u001b[1;36m2\u001b[0m\u001b[1;33m,\u001b[0m \u001b[1;36m100\u001b[0m\u001b[1;33m)\u001b[0m\u001b[1;33m:\u001b[0m\u001b[1;33m\u001b[0m\u001b[1;33m\u001b[0m\u001b[0m\n\u001b[1;32m----> 7\u001b[1;33m     \u001b[0mvalue\u001b[0m \u001b[1;33m=\u001b[0m \u001b[0mint\u001b[0m\u001b[1;33m(\u001b[0m\u001b[0minput\u001b[0m\u001b[1;33m(\u001b[0m\u001b[1;34m\"Please enter the %d List Item = \"\u001b[0m  \u001b[1;33m%\u001b[0m\u001b[0mi\u001b[0m\u001b[1;33m)\u001b[0m\u001b[1;33m)\u001b[0m\u001b[1;33m\u001b[0m\u001b[1;33m\u001b[0m\u001b[0m\n\u001b[0m\u001b[0;32m      8\u001b[0m     \u001b[0mavglist\u001b[0m\u001b[1;33m.\u001b[0m\u001b[0mappend\u001b[0m\u001b[1;33m(\u001b[0m\u001b[0mvalue\u001b[0m\u001b[1;33m)\u001b[0m\u001b[1;33m\u001b[0m\u001b[1;33m\u001b[0m\u001b[0m\n\u001b[0;32m      9\u001b[0m \u001b[1;33m\u001b[0m\u001b[0m\n",
      "\u001b[1;31mValueError\u001b[0m: invalid literal for int() with base 10: ''"
     ]
    }
   ],
   "source": [
    "from statistics import mean\n",
    "from functools import reduce\n",
    "\n",
    "avglist = []\n",
    "\n",
    "for i in range(2, 100):\n",
    "    value = int(input(\"Please enter the %d List Item = \"  %i))\n",
    "    avglist.append(value)\n",
    "\n",
    "total = sum(avglist)\n",
    "avg1 = mean(avglist)\n",
    "avg2 = reduce(lambda x, y: x + y, avglist) / Number\n",
    "#avg2 = reduce(lambda x, y: x + y, avglist) /len(avglist)\n",
    "\n",
    "print('\\nThe Sum     = ', total)\n",
    "print('\\nThe Average = ', avg1)\n",
    "print('\\nThe Average = ', avg2)\n"
   ]
  }
 ],
 "metadata": {
  "kernelspec": {
   "display_name": "Python 3 (ipykernel)",
   "language": "python",
   "name": "python3"
  },
  "language_info": {
   "codemirror_mode": {
    "name": "ipython",
    "version": 3
   },
   "file_extension": ".py",
   "mimetype": "text/x-python",
   "name": "python",
   "nbconvert_exporter": "python",
   "pygments_lexer": "ipython3",
   "version": "3.9.7"
  }
 },
 "nbformat": 4,
 "nbformat_minor": 5
}
